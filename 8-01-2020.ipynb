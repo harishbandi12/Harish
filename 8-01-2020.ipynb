{
 "cells": [
  {
   "cell_type": "markdown",
   "metadata": {},
   "source": [
    "### Tuples\n",
    "- Tuples can be defined as with in paraenthsis()\n",
    "- Tuples are similar to list\n",
    "- used to read the object data\n",
    "- list is muttable and tuple is immutable\n",
    "- List object can be used for insert,update,delete\n",
    "- Tuple object can only support for reading "
   ]
  },
  {
   "cell_type": "code",
   "execution_count": 2,
   "metadata": {},
   "outputs": [
    {
     "name": "stdout",
     "output_type": "stream",
     "text": [
      "h e l l o "
     ]
    }
   ],
   "source": [
    "t1=\"hello\"\n",
    "for i in range(len(t1)):\n",
    "    print(t1[i],end=' ')"
   ]
  },
  {
   "cell_type": "markdown",
   "metadata": {},
   "source": [
    "### Dictionaries in Python\n",
    "- General Purpose data structure in Python\n",
    "- Dict object basically consists of Key and Value\n",
    "- Dict object consists of Unique key\n",
    "- Dict object can be enclosed in curly braces-{}\n",
    "- one pair key and value is separted by comma(,)\n",
    "- key and value is separted by colon symbol:"
   ]
  },
  {
   "cell_type": "code",
   "execution_count": 5,
   "metadata": {},
   "outputs": [
    {
     "name": "stdout",
     "output_type": "stream",
     "text": [
      "{'name': 'Anil', 'emailID': 'anil@dhyanahita.org', 'phone': 9492985512}\n"
     ]
    }
   ],
   "source": [
    "dict={\"name\":\"Anil\",\"emailID\":\"anil@dhyanahita.org\",\"phone\":9492985512}\n",
    "print(dict)"
   ]
  },
  {
   "cell_type": "code",
   "execution_count": 9,
   "metadata": {},
   "outputs": [
    {
     "name": "stdout",
     "output_type": "stream",
     "text": [
      "['name', 'emailID', 'phone']\n"
     ]
    }
   ],
   "source": [
    "dict={\"name\":\"Anil\",\"emailID\":\"anil@dhyanahita.org\",\"phone\":9492985512}\n",
    "li=[]\n",
    "for i in dict.keys():\n",
    "    li.append(i)\n",
    "print(li)"
   ]
  },
  {
   "cell_type": "code",
   "execution_count": 10,
   "metadata": {},
   "outputs": [
    {
     "name": "stdout",
     "output_type": "stream",
     "text": [
      "{'name': 'Harish', 'emailID': 'anil@dhyanahita.org', 'phone': 9492985512}\n"
     ]
    }
   ],
   "source": [
    "dict[\"name\"]=\"Harish\"\n",
    "print(dict)"
   ]
  },
  {
   "cell_type": "markdown",
   "metadata": {},
   "source": [
    "### Contact Application\n",
    "- List,tuple,Dict\n",
    "- Add a new contact Details"
   ]
  },
  {
   "cell_type": "code",
   "execution_count": 39,
   "metadata": {},
   "outputs": [
    {
     "name": "stdout",
     "output_type": "stream",
     "text": [
      "its entered succesfully\n",
      "its entered succesfully\n",
      "it already exists\n"
     ]
    }
   ],
   "source": [
    "contact=[]\n",
    "def addcontact(names,phone):\n",
    "    if names not in contact:\n",
    "        contact.append(names)\n",
    "        print(\"its entered succesfully\")\n",
    "    else:\n",
    "        print(\"it already exists\")\n",
    "    return\n",
    "addcontact(\"hari\",9492985512)\n",
    "addcontact(\"harish\",8639432346)\n",
    "addcontact(\"hari\",9948723502)"
   ]
  },
  {
   "cell_type": "code",
   "execution_count": 25,
   "metadata": {},
   "outputs": [
    {
     "name": "stdout",
     "output_type": "stream",
     "text": [
      "['hari', 'harish']\n"
     ]
    }
   ],
   "source": [
    "print(contact)"
   ]
  },
  {
   "cell_type": "markdown",
   "metadata": {},
   "source": [
    "### Contact application\n",
    "- Add a new contact details\n",
    "- search contact\n",
    "- Modify the contact\n",
    "- sort the contact and display contact and names\n",
    "- enter the second number to the contact\n",
    "- display only the numbers in the contact"
   ]
  },
  {
   "cell_type": "code",
   "execution_count": 8,
   "metadata": {},
   "outputs": [
    {
     "name": "stdout",
     "output_type": "stream",
     "text": [
      "555\n",
      "{'harish': 555}\n",
      "444\n",
      "{'harish': 555, 'hari': 444}\n",
      "44\n",
      "{'harish': 555, 'hari': 444, 'rajesh': 44}\n",
      "444\n",
      "{'harish': 555, 'hari': 444, 'rajesh': 44, 'bandi': 444}\n",
      "444\n",
      "{'harish': 555, 'hari': 444, 'rajesh': 44, 'bandi': 444, 'siva': 444}\n",
      "444\n",
      "{'harish': 555, 'hari': 444, 'rajesh': 44, 'bandi': 444, 'siva': 444, 'sai': 444}\n",
      "455\n",
      "{'harish': 555, 'hari': 444, 'rajesh': 44, 'bandi': 444, 'siva': 444, 'sai': 444, 'span': 455}\n",
      "44458\n",
      "{'harish': 555, 'hari': 444, 'rajesh': 44, 'bandi': 444, 'siva': 444, 'sai': 444, 'span': 455, 'lakshmi': 44458}\n",
      "41545\n",
      "{'harish': 555, 'hari': 444, 'rajesh': 44, 'bandi': 444, 'siva': 444, 'sai': 444, 'span': 455, 'lakshmi': 44458, 'teja': 41545}\n",
      "4454\n",
      "{'harish': 555, 'hari': 444, 'rajesh': 44, 'bandi': 444, 'siva': 444, 'sai': 444, 'span': 455, 'lakshmi': 44458, 'teja': 41545, 'charan': 4454}\n"
     ]
    }
   ],
   "source": [
    "contact={}\n",
    "def addcontact(names,phone):\n",
    "    contact[names]=phone\n",
    "    print(contact)\n",
    "    return\n",
    "addcontact(\"harish\",phone=int(input()))\n",
    "addcontact(\"hari\",phone=int(input()))\n",
    "addcontact(\"rajesh\",phone=int(input()))\n",
    "addcontact(\"bandi\", phone=int(input()))\n",
    "addcontact(\"siva\",phone=int(input()))\n",
    "addcontact(\"sai\", phone=int(input()))\n",
    "addcontact(\"span\", phone=int(input()))\n",
    "addcontact(\"lakshmi\",phone=int(input()) )\n",
    "addcontact(\"teja\", phone=int(input()))\n",
    "addcontact(\"charan\",phone=int(input()) )"
   ]
  },
  {
   "cell_type": "code",
   "execution_count": 9,
   "metadata": {},
   "outputs": [
    {
     "name": "stdout",
     "output_type": "stream",
     "text": [
      "{'harish': 555, 'hari': 444, 'rajesh': 44, 'bandi': 444, 'siva': 444, 'sai': 444, 'span': 455, 'lakshmi': 44458, 'teja': 41545, 'charan': 4454}\n"
     ]
    }
   ],
   "source": [
    "print(contact)"
   ]
  },
  {
   "cell_type": "code",
   "execution_count": 13,
   "metadata": {},
   "outputs": [
    {
     "name": "stdout",
     "output_type": "stream",
     "text": [
      "['bandi', 'charan', 'hari', 'harish', 'lakshmi', 'rajesh', 'sai', 'siva', 'span', 'teja']\n"
     ]
    }
   ],
   "source": [
    "li=[]\n",
    "li=list(contact.keys())\n",
    "li.sort()\n",
    "print(li)"
   ]
  },
  {
   "cell_type": "code",
   "execution_count": 15,
   "metadata": {},
   "outputs": [],
   "source": [
    "li=[]\n",
    "li=list(contact.keys())\n",
    "li.sort()"
   ]
  },
  {
   "cell_type": "code",
   "execution_count": 16,
   "metadata": {},
   "outputs": [
    {
     "name": "stdout",
     "output_type": "stream",
     "text": [
      "{'name': [1245, 4567], 'phone': '99480'}\n"
     ]
    }
   ],
   "source": [
    "dic={\"name\":[1245,4567],\"phone\":\"99480\"}\n",
    "print(dic)"
   ]
  },
  {
   "cell_type": "markdown",
   "metadata": {},
   "source": [
    "## Sets"
   ]
  },
  {
   "cell_type": "code",
   "execution_count": 29,
   "metadata": {},
   "outputs": [
    {
     "name": "stdout",
     "output_type": "stream",
     "text": [
      "{1, 2, 3, 4, 5, 6}\n"
     ]
    }
   ],
   "source": [
    "s={1,2,3,4,5}\n",
    "s.add(6)\n",
    "print(s)"
   ]
  },
  {
   "cell_type": "code",
   "execution_count": 31,
   "metadata": {},
   "outputs": [
    {
     "name": "stdout",
     "output_type": "stream",
     "text": [
      "{1, 2, 3, 4, 5, 6, 8, 9, 10}\n"
     ]
    }
   ],
   "source": [
    "s.update([6],{8,9,10})\n",
    "print(s)"
   ]
  },
  {
   "cell_type": "code",
   "execution_count": 32,
   "metadata": {},
   "outputs": [
    {
     "name": "stdout",
     "output_type": "stream",
     "text": [
      "{2, 3, 4, 5, 6, 8, 9, 10}\n"
     ]
    }
   ],
   "source": [
    "s.pop()\n",
    "print(s)"
   ]
  },
  {
   "cell_type": "code",
   "execution_count": 41,
   "metadata": {},
   "outputs": [
    {
     "name": "stdout",
     "output_type": "stream",
     "text": [
      "{1, 2, 3, 4, 5, 6}\n"
     ]
    }
   ],
   "source": [
    "s={1,2,3,4,5}\n",
    "s2={2,5,6,4,5}\n",
    "print(s|s2)"
   ]
  },
  {
   "cell_type": "code",
   "execution_count": 44,
   "metadata": {},
   "outputs": [
    {
     "name": "stdout",
     "output_type": "stream",
     "text": [
      "wwhwwhhwwvwgwrfwfwww\n",
      "m m h m m h h m m v m g m r f m f m m m "
     ]
    }
   ],
   "source": [
    "m=input()\n",
    "for i in m:\n",
    "    if(i==\"w\" or i==\"W\"):\n",
    "        print(\"m\",end=\" \")\n",
    "    else:\n",
    "        print(i,end=\" \")"
   ]
  },
  {
   "cell_type": "code",
   "execution_count": 52,
   "metadata": {},
   "outputs": [
    {
     "name": "stdout",
     "output_type": "stream",
     "text": [
      "HelloHai\n",
      "Upper case - 2 \n",
      "Lowercase - 6\n"
     ]
    }
   ],
   "source": [
    "n=input()\n",
    "lw=0\n",
    "up=0\n",
    "for i in n:\n",
    "    if(ord(i)>=97 and ord(i)<=122):\n",
    "        lw+=1\n",
    "    elif(ord(i)>=65 and ord(i)<=90):\n",
    "        up+=1\n",
    "print(\"Upper case -\",up,\"\\nLowercase -\",lw)\n",
    "        "
   ]
  },
  {
   "cell_type": "code",
   "execution_count": 65,
   "metadata": {},
   "outputs": [
    {
     "name": "stdout",
     "output_type": "stream",
     "text": [
      "\n",
      "\n",
      "* * * * * \n",
      "\n",
      "*       * \n",
      "\n",
      "*       * \n",
      "\n",
      "*       * \n",
      "\n",
      "* * * * * "
     ]
    }
   ],
   "source": [
    "for i in range(5):\n",
    "    print(\"\\n\")\n",
    "    for j in range(5):\n",
    "        if(i==0 or j==0 or i==5-1 or j==5-1):\n",
    "            print(\"*\",end=\" \")\n",
    "        else:\n",
    "            print(\" \",end=\" \")"
   ]
  },
  {
   "cell_type": "code",
   "execution_count": null,
   "metadata": {},
   "outputs": [],
   "source": []
  }
 ],
 "metadata": {
  "kernelspec": {
   "display_name": "Python 3",
   "language": "python",
   "name": "python3"
  },
  "language_info": {
   "codemirror_mode": {
    "name": "ipython",
    "version": 3
   },
   "file_extension": ".py",
   "mimetype": "text/x-python",
   "name": "python",
   "nbconvert_exporter": "python",
   "pygments_lexer": "ipython3",
   "version": "3.7.4"
  }
 },
 "nbformat": 4,
 "nbformat_minor": 2
}

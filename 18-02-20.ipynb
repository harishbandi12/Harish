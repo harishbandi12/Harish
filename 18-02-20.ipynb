{
 "cells": [
  {
   "cell_type": "markdown",
   "metadata": {},
   "source": [
    "### To print the number from a string (Encoding)"
   ]
  },
  {
   "cell_type": "code",
   "execution_count": 9,
   "metadata": {},
   "outputs": [
    {
     "name": "stdout",
     "output_type": "stream",
     "text": [
      "enter the string Hello\n",
      "[8, 5, 12, 12, 15]\n"
     ]
    }
   ],
   "source": [
    "s=input(\"enter the string \")\n",
    "s=s.lower()\n",
    "out=[]\n",
    "d={}\n",
    "for i in range(26):\n",
    "    d[chr(i+97)]=i+1\n",
    "d[' ']=0\n",
    "for i in s:\n",
    "    if i in d.keys():\n",
    "        out.append(d[i])\n",
    "    else:\n",
    "        out.append(-1)\n",
    "print(out)"
   ]
  },
  {
   "cell_type": "markdown",
   "metadata": {},
   "source": [
    "### To print the string from a number (Decoding)"
   ]
  },
  {
   "cell_type": "code",
   "execution_count": null,
   "metadata": {},
   "outputs": [],
   "source": []
  }
 ],
 "metadata": {
  "kernelspec": {
   "display_name": "Python 3",
   "language": "python",
   "name": "python3"
  },
  "language_info": {
   "codemirror_mode": {
    "name": "ipython",
    "version": 3
   },
   "file_extension": ".py",
   "mimetype": "text/x-python",
   "name": "python",
   "nbconvert_exporter": "python",
   "pygments_lexer": "ipython3",
   "version": "3.7.4"
  }
 },
 "nbformat": 4,
 "nbformat_minor": 2
}

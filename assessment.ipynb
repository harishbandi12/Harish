{
 "cells": [
  {
   "cell_type": "code",
   "execution_count": 1,
   "metadata": {},
   "outputs": [
    {
     "name": "stdout",
     "output_type": "stream",
     "text": [
      "5\n",
      "1\n",
      "\n",
      "2\n",
      "\n",
      "3\n",
      "\n",
      "4\n",
      "\n",
      "5\n",
      "\n"
     ]
    }
   ],
   "source": [
    "n=int(input())\n",
    "i=0\n",
    "for i in range(i,n):\n",
    "    i=int(input())\n",
    "    print()"
   ]
  },
  {
   "cell_type": "code",
   "execution_count": 21,
   "metadata": {},
   "outputs": [
    {
     "name": "stdout",
     "output_type": "stream",
     "text": [
      "Maximum Value : 25\n",
      "Palindrome Numbers are\n",
      "1   2   3   4   5   6   7   8   9   11   22   "
     ]
    }
   ],
   "source": [
    "max = int(input(\"Maximum Value : \"))\n",
    "\n",
    "print(\"Palindrome Numbers are\")\n",
    "for num in range(1, max+ 1):\n",
    "    temp = num\n",
    "    rev = 0\n",
    "    \n",
    "    while(temp > 0):\n",
    "        Reminder = temp % 10\n",
    "        rev = (rev * 10) + Reminder\n",
    "        temp = temp //10\n",
    "\n",
    "    if(num == rev):\n",
    "        print(\"%d \" %num, end = '  ')"
   ]
  },
  {
   "cell_type": "code",
   "execution_count": 22,
   "metadata": {},
   "outputs": [
    {
     "name": "stdout",
     "output_type": "stream",
     "text": [
      "enter the age25\n",
      "eligible\n"
     ]
    }
   ],
   "source": [
    "age=int(input(\"enter the age\"))\n",
    "if(age>=18 and age<=85):\n",
    "  print(\"eligible\")\n",
    "else:\n",
    "  print(\"not eligible\")"
   ]
  },
  {
   "cell_type": "code",
   "execution_count": 6,
   "metadata": {},
   "outputs": [
    {
     "name": "stdout",
     "output_type": "stream",
     "text": [
      "enter the number10\n",
      "10 * 1 = 10\n",
      "10 * 2 = 20\n",
      "10 * 3 = 30\n",
      "10 * 4 = 40\n",
      "10 * 5 = 50\n",
      "10 * 6 = 60\n",
      "10 * 7 = 70\n",
      "10 * 8 = 80\n",
      "10 * 9 = 90\n",
      "10 * 10 = 100\n"
     ]
    }
   ],
   "source": [
    "# To print the table with ranges\n",
    "n=int(input(\"enter the number\"))\n",
    "i=1\n",
    "while(i<=10):\n",
    "  print(n,\"*\",i,\"=\",n*i)\n",
    "  i=i+1"
   ]
  },
  {
   "cell_type": "code",
   "execution_count": 7,
   "metadata": {},
   "outputs": [
    {
     "name": "stdout",
     "output_type": "stream",
     "text": [
      "enter the number5\n",
      "sum of natural numbers is  15\n"
     ]
    }
   ],
   "source": [
    "n=int(input(\"enter the number\"))\n",
    "i=1\n",
    "sum=0\n",
    "while(i<=n):\n",
    "  sum=sum+i\n",
    "  i=i+1\n",
    "print(\"sum of natural number \",sum)"
   ]
  },
  {
   "cell_type": "code",
   "execution_count": 8,
   "metadata": {},
   "outputs": [
    {
     "name": "stdout",
     "output_type": "stream",
     "text": [
      "enter the number25\n",
      "reverse of a number  52\n"
     ]
    }
   ],
   "source": [
    "# To print the reverse of a number\n",
    "n=int(input(\"enter the number\"))\n",
    "rev=0\n",
    "while(n!=0):\n",
    "  rev=rev*10+(n%10)\n",
    "  n=n//10\n",
    "print(\"reverse of a number \",rev)"
   ]
  },
  {
   "cell_type": "code",
   "execution_count": 9,
   "metadata": {},
   "outputs": [
    {
     "name": "stdout",
     "output_type": "stream",
     "text": [
      "enter lower limit2\n",
      "enter upper limit30\n",
      "Prime numbers are:\n",
      "2\n",
      "3\n",
      "5\n",
      "7\n",
      "11\n",
      "13\n",
      "17\n",
      "19\n",
      "23\n",
      "29\n"
     ]
    }
   ],
   "source": [
    "# To print the number of primes between certain range\n",
    "l = int(input(\"lower limit\"))\n",
    "u = int(input(\"upper limit\"))\n",
    "print(\"Prime numbers are:\")\n",
    "for num in range(l, u + 1):\n",
    "   if num > 1:\n",
    "       for i in range(2, num):\n",
    "           if (num % i) == 0:\n",
    "               break\n",
    "       else:\n",
    "           print(num)"
   ]
  },
  {
   "cell_type": "code",
   "execution_count": 10,
   "metadata": {},
   "outputs": [
    {
     "name": "stdout",
     "output_type": "stream",
     "text": [
      "enter the number25\n",
      "25 is not a prime number\n"
     ]
    }
   ],
   "source": [
    "# To check the number is prime or not\n",
    "n=int(input(\"enter the number\"))\n",
    "if n > 1:\n",
    "   for i in range(2,n):\n",
    "       if (n % i) == 0:\n",
    "           print(n,\"is not a prime number\")\n",
    "           break\n",
    "   else:\n",
    "       print(n,\"is a prime number\")\n",
    "else:\n",
    "   print(n,\"is not a prime number\")"
   ]
  },
  {
   "cell_type": "code",
   "execution_count": 11,
   "metadata": {},
   "outputs": [
    {
     "name": "stdout",
     "output_type": "stream",
     "text": [
      "enter the number25\n",
      "not palindrome\n"
     ]
    }
   ],
   "source": [
    "# To check the number is palindrome or not\n",
    "n=int(input(\"enter the number\"))\n",
    "rev=0\n",
    "temp=n\n",
    "while(n!=0):\n",
    "  rev=rev*10+(n%10)\n",
    "  n=n//10\n",
    "if(temp==rev):\n",
    "  print(\"palindrome\")\n",
    "else:\n",
    "  print(\"not palindrome\")"
   ]
  },
  {
   "cell_type": "code",
   "execution_count": 12,
   "metadata": {},
   "outputs": [
    {
     "name": "stdout",
     "output_type": "stream",
     "text": [
      "enter the number10\n",
      "positive number\n"
     ]
    }
   ],
   "source": [
    "# To check the number is positive ,negative or zero\n",
    "n=int(input(\"enter the number\"))\n",
    "if(n>0):\n",
    "  print(\"positive \")\n",
    "elif(n<0):\n",
    "  print(\"negative \")\n",
    "else:\n",
    "  print(\"zero\")"
   ]
  },
  {
   "cell_type": "code",
   "execution_count": 25,
   "metadata": {},
   "outputs": [
    {
     "name": "stdout",
     "output_type": "stream",
     "text": [
      "enter the number4\n",
      "factorial is  24\n"
     ]
    }
   ],
   "source": [
    "# factorial\n",
    "n=int(input(\"enter the number\"))\n",
    "fact=1\n",
    "i=1\n",
    "while(i<=n):\n",
    "    fact=fact*i\n",
    "    i=i+1\n",
    "print(\"factorial is \",fact)\n"
   ]
  },
  {
   "cell_type": "code",
   "execution_count": 17,
   "metadata": {},
   "outputs": [
    {
     "name": "stdout",
     "output_type": "stream",
     "text": [
      "enter a value20\n",
      "enter b value30\n",
      "b is largest\n"
     ]
    }
   ],
   "source": [
    "# largest of 2\n",
    "a =int(input(\"enter a\"))\n",
    "b=int(input(\"enter b\"))\n",
    "if a>b:\n",
    "    print(\"a is largest\")\n",
    "else:\n",
    "    print(\"b is largest\")"
   ]
  },
  {
   "cell_type": "code",
   "execution_count": 26,
   "metadata": {},
   "outputs": [
    {
     "name": "stdout",
     "output_type": "stream",
     "text": [
      "Enter a number: 153\n",
      "3\n",
      "153 is an Armstrong\n"
     ]
    }
   ],
   "source": [
    "# To check the number is armstrong or not\n",
    "num = int(input(\"Enter a number: \"))\n",
    "n=int(input())\n",
    "sum = 0\n",
    "temp = num\n",
    "while temp > 0:\n",
    "   digit = temp % 10\n",
    "   sum += digit ** n\n",
    "   temp //= 10\n",
    "if num == sum:\n",
    "   print(num,\"is an Armstrong\")\n",
    "else:\n",
    "   print(num,\"is not an Armstrong\")"
   ]
  },
  {
   "cell_type": "code",
   "execution_count": 19,
   "metadata": {},
   "outputs": [
    {
     "name": "stdout",
     "output_type": "stream",
     "text": [
      "Enter any number: 25\n",
      "The number is not a Perfect number!\n"
     ]
    }
   ],
   "source": [
    "# To check the number is perfect or not\n",
    "n = int(input(\"Enter any number: \"))\n",
    "sum1 = 0\n",
    "for i in range(1, n):\n",
    "    if(n % i == 0):\n",
    "        sum1 = sum1 + i\n",
    "if (sum1 == n):\n",
    "    print(\"The number is a Perfect number!\")\n",
    "else:\n",
    "    print(\"The number is not a Perfect number!\")"
   ]
  },
  {
   "cell_type": "code",
   "execution_count": 20,
   "metadata": {},
   "outputs": [
    {
     "name": "stdout",
     "output_type": "stream",
     "text": [
      "Enter a number:25\n",
      "The number is not a strong number\n"
     ]
    }
   ],
   "source": [
    "# To check the number is strong or not\n",
    "sum1=0\n",
    "num=int(input(\"Enter a number:\"))\n",
    "temp=num\n",
    "while(num):\n",
    "    i=1\n",
    "    f=1\n",
    "    r=num%10\n",
    "    while(i<=r):\n",
    "        f=f*i\n",
    "        i=i+1\n",
    "    sum1=sum1+f\n",
    "    num=num//10\n",
    "if(sum1==temp):\n",
    "    print(\"The number is a strong number\")\n",
    "else:\n",
    "    print(\"The number is not a strong number\")"
   ]
  },
  {
   "cell_type": "code",
   "execution_count": null,
   "metadata": {},
   "outputs": [],
   "source": []
  },
  {
   "cell_type": "code",
   "execution_count": null,
   "metadata": {},
   "outputs": [],
   "source": []
  },
  {
   "cell_type": "code",
   "execution_count": null,
   "metadata": {},
   "outputs": [],
   "source": []
  }
 ],
 "metadata": {
  "kernelspec": {
   "display_name": "Python 3",
   "language": "python",
   "name": "python3"
  },
  "language_info": {
   "codemirror_mode": {
    "name": "ipython",
    "version": 3
   },
   "file_extension": ".py",
   "mimetype": "text/x-python",
   "name": "python",
   "nbconvert_exporter": "python",
   "pygments_lexer": "ipython3",
   "version": "3.7.4"
  }
 },
 "nbformat": 4,
 "nbformat_minor": 2
}

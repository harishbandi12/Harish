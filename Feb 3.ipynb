{
 "cells": [
  {
   "cell_type": "code",
   "execution_count": 5,
   "metadata": {},
   "outputs": [
    {
     "data": {
      "text/plain": [
       "[<matplotlib.lines.Line2D at 0x12d350f1408>]"
      ]
     },
     "execution_count": 5,
     "metadata": {},
     "output_type": "execute_result"
    },
    {
     "data": {
      "image/png": "[encoded data removed]",
      "text/plain": [
       "<Figure size 432x288 with 1 Axes>"
      ]
     },
     "metadata": {
      "needs_background": "light"
     },
     "output_type": "display_data"
    }
   ],
   "source": [
    "import numpy as np\n",
    "import matplotlib.pyplot as plt\n",
    "x1=np.random.randint(10,50,size=10)\n",
    "y1=x1*5\n",
    "x2=np.random.randint(50,100,size=10)\n",
    "y2=x2*-5\n",
    "%matplotlib inline\n",
    "plt.plot(x1,y1,'ob')\n",
    "plt.plot(x2,y2,'r^')"
   ]
  },
  {
   "cell_type": "code",
   "execution_count": 6,
   "metadata": {},
   "outputs": [
    {
     "data": {
      "text/plain": [
       "[<matplotlib.lines.Line2D at 0x12d35b7be48>]"
      ]
     },
     "execution_count": 6,
     "metadata": {},
     "output_type": "execute_result"
    },
    {
     "data": {
      "image/png": "[encoded data removed]",
      "text/plain": [
       "<Figure size 432x288 with 1 Axes>"
      ]
     },
     "metadata": {
      "needs_background": "light"
     },
     "output_type": "display_data"
    }
   ],
   "source": [
    "x = np.arange(-50,50,2)\n",
    "y = 4*x*x\n",
    "y1 = 4*x*x + 3*x +2\n",
    "plt.plot(x,y,'o')"
   ]
  },
  {
   "cell_type": "code",
   "execution_count": 8,
   "metadata": {},
   "outputs": [
    {
     "data": {
      "text/plain": [
       "array([10000,  9216,  8464,  7744,  7056,  6400,  5776,  5184,  4624,\n",
       "        4096,  3600,  3136,  2704,  2304,  1936,  1600,  1296,  1024,\n",
       "         784,   576,   400,   256,   144,    64,    16,     0,    16,\n",
       "          64,   144,   256,   400,   576,   784,  1024,  1296,  1600,\n",
       "        1936,  2304,  2704,  3136,  3600,  4096,  4624,  5184,  5776,\n",
       "        6400,  7056,  7744,  8464,  9216])"
      ]
     },
     "execution_count": 8,
     "metadata": {},
     "output_type": "execute_result"
    }
   ],
   "source": [
    "y"
   ]
  },
  {
   "cell_type": "code",
   "execution_count": 15,
   "metadata": {},
   "outputs": [
    {
     "data": {
      "text/plain": [
       "Text(1, 5, 'sum')"
      ]
     },
     "execution_count": 15,
     "metadata": {},
     "output_type": "execute_result"
    },
    {
     "data": {
      "image/png": "[encoded data removed]",
      "text/plain": [
       "<Figure size 432x288 with 1 Axes>"
      ]
     },
     "metadata": {
      "needs_background": "light"
     },
     "output_type": "display_data"
    }
   ],
   "source": [
    "plt.plot([20,40,50],'o')\n",
    "plt.xticks([0,1,5])\n",
    "plt.yticks([20,40,50])\n",
    "plt.title('Graph')\n",
    "plt.xlabel(\"Index of x\")\n",
    "plt.xlabel(\"Index of y\")\n",
    "plt.text(1,5,'sum')"
   ]
  },
  {
   "cell_type": "code",
   "execution_count": 19,
   "metadata": {},
   "outputs": [
    {
     "data": {
      "image/png": "[encoded data removed]",
      "text/plain": [
       "<Figure size 360x180 with 1 Axes>"
      ]
     },
     "metadata": {
      "needs_background": "light"
     },
     "output_type": "display_data"
    }
   ],
   "source": [
    "values = [20,40,50]\n",
    "plt.figure(figsize=(5,2.5))\n",
    "plt.plot(values,'o')\n",
    "plt.xticks(range(len(values)))\n",
    "plt.yticks(values)\n",
    "plt.title(\"A graph of X\")\n",
    "plt.xlabel(\"Index of X\")\n",
    "plt.ylabel(\"Values of X\")\n",
    "j=0\n",
    "for i in values:\n",
    "    plt.text(j,i,(j,i))\n",
    "    j+=1\n",
    "\n"
   ]
  },
  {
   "cell_type": "markdown",
   "metadata": {},
   "source": [
    "### Univariate Analysis\n",
    "- Histogram\n",
    "- BoxPlot\n",
    "- Bargraph"
   ]
  },
  {
   "cell_type": "code",
   "execution_count": 20,
   "metadata": {},
   "outputs": [
    {
     "data": {
      "text/plain": [
       "(array([3., 6., 7., 5., 5., 8., 3., 2., 4., 7.]),\n",
       " array([10. , 10.9, 11.8, 12.7, 13.6, 14.5, 15.4, 16.3, 17.2, 18.1, 19. ]),\n",
       " <a list of 10 Patch objects>)"
      ]
     },
     "execution_count": 20,
     "metadata": {},
     "output_type": "execute_result"
    },
    {
     "data": {
      "image/png": "[encoded data removed]",
      "text/plain": [
       "<Figure size 432x288 with 1 Axes>"
      ]
     },
     "metadata": {
      "needs_background": "light"
     },
     "output_type": "display_data"
    }
   ],
   "source": [
    "np.random.seed(6)\n",
    "a = np.random.randint(10,20,50)\n",
    "plt.hist(a)"
   ]
  },
  {
   "cell_type": "code",
   "execution_count": 21,
   "metadata": {},
   "outputs": [
    {
     "ename": "SyntaxError",
     "evalue": "positional argument follows keyword argument (<ipython-input-21-111f0fa318bf>, line 1)",
     "output_type": "error",
     "traceback": [
      "\u001b[1;36m  File \u001b[1;32m\"<ipython-input-21-111f0fa318bf>\"\u001b[1;36m, line \u001b[1;32m1\u001b[0m\n\u001b[1;33m    plt.hist(a,density=True,c)\u001b[0m\n\u001b[1;37m                           ^\u001b[0m\n\u001b[1;31mSyntaxError\u001b[0m\u001b[1;31m:\u001b[0m positional argument follows keyword argument\n"
     ]
    }
   ],
   "source": [
    "plt.hist(a,density=True,c)"
   ]
  },
  {
   "cell_type": "code",
   "execution_count": 22,
   "metadata": {},
   "outputs": [
    {
     "data": {
      "text/plain": [
       "{'whiskers': [<matplotlib.lines.Line2D at 0x12d35edb888>,\n",
       "  <matplotlib.lines.Line2D at 0x12d35edb708>],\n",
       " 'caps': [<matplotlib.lines.Line2D at 0x12d35f00508>,\n",
       "  <matplotlib.lines.Line2D at 0x12d35ed1788>],\n",
       " 'boxes': [<matplotlib.lines.Line2D at 0x12d35ef3f08>],\n",
       " 'medians': [<matplotlib.lines.Line2D at 0x12d35ed1588>],\n",
       " 'fliers': [<matplotlib.lines.Line2D at 0x12d35efc748>],\n",
       " 'means': []}"
      ]
     },
     "execution_count": 22,
     "metadata": {},
     "output_type": "execute_result"
    },
    {
     "data": {
      "image/png": "[encoded data removed]",
      "text/plain": [
       "<Figure size 432x288 with 1 Axes>"
      ]
     },
     "metadata": {
      "needs_background": "light"
     },
     "output_type": "display_data"
    }
   ],
   "source": [
    "a = [-1000,100,350,400,500,600,1000]\n",
    "plt.boxplot(a)"
   ]
  },
  {
   "cell_type": "code",
   "execution_count": 23,
   "metadata": {},
   "outputs": [
    {
     "data": {
      "text/plain": [
       "(-262.5, 1037.5)"
      ]
     },
     "execution_count": 23,
     "metadata": {},
     "output_type": "execute_result"
    }
   ],
   "source": [
    "q1 = np.quantile(a,0.25)\n",
    "q2 = np.quantile(a,0.5)\n",
    "q3 = np.quantile(a,0.75)\n",
    "IQR = q3-q1\n",
    "(q1-1.5*IQR,q3+1.5*IQR)"
   ]
  },
  {
   "cell_type": "code",
   "execution_count": 24,
   "metadata": {},
   "outputs": [
    {
     "data": {
      "text/plain": [
       "array([ 19, 135,  25,  74, 123, 133, 166, 167, 123,  18,  83,  10,  50,\n",
       "       174, 125,  26, 110, 149,  64,  98, 117, 132,  72,  43, 110, 187,\n",
       "       189,  64,  87,  23, 163, 136, 151, 102,  96,  40, 168,  99, 150,\n",
       "        75,  41,  67,  46,  37,  28, 103,  87, 160, 161, 104])"
      ]
     },
     "execution_count": 24,
     "metadata": {},
     "output_type": "execute_result"
    }
   ],
   "source": [
    "np.random.seed(10)\n",
    "a = np.random.randint(10,200,50)\n",
    "a"
   ]
  },
  {
   "cell_type": "markdown",
   "metadata": {},
   "source": [
    "## Create new array \n",
    "- a>=50 and a<=150 --GOOD\n",
    "- a<50 --BAD\n",
    "- a>150 --Excellent"
   ]
  },
  {
   "cell_type": "code",
   "execution_count": 27,
   "metadata": {},
   "outputs": [
    {
     "name": "stdout",
     "output_type": "stream",
     "text": [
      "bad\n"
     ]
    }
   ],
   "source": [
    "if(a.all()>50 and a.all()<150):\n",
    "    print(\"good\")\n",
    "else:\n",
    "    print(\"bad\")\n"
   ]
  },
  {
   "cell_type": "code",
   "execution_count": 33,
   "metadata": {},
   "outputs": [
    {
     "data": {
      "text/plain": [
       "array(['bad', 'good', 'bad', 'good', 'good', 'good', 'Excellent',\n",
       "       'Excellent', 'good', 'bad', 'good', 'bad', 'good', 'Excellent',\n",
       "       'good', 'bad', 'good', 'good', 'good', 'good', 'good', 'good',\n",
       "       'good', 'bad', 'good', 'Excellent', 'Excellent', 'good', 'good',\n",
       "       'bad', 'Excellent', 'good', 'Excellent', 'good', 'good', 'bad',\n",
       "       'Excellent', 'good', 'good', 'good', 'bad', 'good', 'bad', 'bad',\n",
       "       'bad', 'good', 'good', 'Excellent', 'Excellent', 'good'],\n",
       "      dtype='<U9')"
      ]
     },
     "execution_count": 33,
     "metadata": {},
     "output_type": "execute_result"
    }
   ],
   "source": [
    "def number(n):\n",
    "    if n<50:\n",
    "        return 'bad'\n",
    "    elif (n>=50 and n<=150):\n",
    "        return 'good'\n",
    "    else:\n",
    "        return \"Excellent\"\n",
    "number_vect=np.vectorize(number)\n",
    "number_vect(a)"
   ]
  },
  {
   "cell_type": "code",
   "execution_count": 35,
   "metadata": {},
   "outputs": [
    {
     "data": {
      "text/plain": [
       "0           bad\n",
       "1          good\n",
       "2           bad\n",
       "3          good\n",
       "4          good\n",
       "5          good\n",
       "6     Excellent\n",
       "7     Excellent\n",
       "8          good\n",
       "9           bad\n",
       "10         good\n",
       "11          bad\n",
       "12         good\n",
       "13    Excellent\n",
       "14         good\n",
       "15          bad\n",
       "16         good\n",
       "17         good\n",
       "18         good\n",
       "19         good\n",
       "20         good\n",
       "21         good\n",
       "22         good\n",
       "23          bad\n",
       "24         good\n",
       "25    Excellent\n",
       "26    Excellent\n",
       "27         good\n",
       "28         good\n",
       "29          bad\n",
       "30    Excellent\n",
       "31         good\n",
       "32    Excellent\n",
       "33         good\n",
       "34         good\n",
       "35          bad\n",
       "36    Excellent\n",
       "37         good\n",
       "38         good\n",
       "39         good\n",
       "40          bad\n",
       "41         good\n",
       "42          bad\n",
       "43          bad\n",
       "44          bad\n",
       "45         good\n",
       "46         good\n",
       "47    Excellent\n",
       "48    Excellent\n",
       "49         good\n",
       "dtype: object"
      ]
     },
     "execution_count": 35,
     "metadata": {},
     "output_type": "execute_result"
    }
   ],
   "source": [
    "import pandas as pd\n",
    "a1 = pd.Series(number_vect(a))\n",
    "a1"
   ]
  },
  {
   "cell_type": "code",
   "execution_count": 37,
   "metadata": {},
   "outputs": [
    {
     "data": {
      "text/plain": [
       "good         28\n",
       "bad          12\n",
       "Excellent    10\n",
       "dtype: int64"
      ]
     },
     "execution_count": 37,
     "metadata": {},
     "output_type": "execute_result"
    }
   ],
   "source": [
    "a1.value_counts()"
   ]
  },
  {
   "cell_type": "markdown",
   "metadata": {},
   "source": [
    "## Subplots"
   ]
  },
  {
   "cell_type": "code",
   "execution_count": 38,
   "metadata": {},
   "outputs": [
    {
     "name": "stderr",
     "output_type": "stream",
     "text": [
      "C:\\Users\\Rajesh\\Anaconda3\\lib\\site-packages\\ipykernel_launcher.py:8: RuntimeWarning: invalid value encountered in power\n",
      "  \n"
     ]
    },
    {
     "data": {
      "text/plain": [
       "Text(0.5, 1.0, 'cude')"
      ]
     },
     "execution_count": 38,
     "metadata": {},
     "output_type": "execute_result"
    },
    {
     "data": {
      "image/png": "[encoded data removed]",
      "text/plain": [
       "<Figure size 432x288 with 4 Axes>"
      ]
     },
     "metadata": {
      "needs_background": "light"
     },
     "output_type": "display_data"
    }
   ],
   "source": [
    "plt.subplot(2,2,1)\n",
    "plt.plot(x,x*2)\n",
    "plt.title('line')\n",
    "plt.subplot(2,2,2)\n",
    "plt.plot(x,x**2)\n",
    "plt.title('square')\n",
    "plt.subplot(2,2,3)\n",
    "plt.plot(x,x**0.5)\n",
    "plt.title('squareroot')\n",
    "plt.subplot(2,2,4)\n",
    "plt.plot(x,x**3)\n",
    "plt.title('cude')\n"
   ]
  },
  {
   "cell_type": "code",
   "execution_count": null,
   "metadata": {},
   "outputs": [],
   "source": [
    "import pandas as pd\n",
    "df = pd.read_csv(\"\", header=None)"
   ]
  },
  {
   "cell_type": "code",
   "execution_count": null,
   "metadata": {},
   "outputs": [],
   "source": []
  },
  {
   "cell_type": "code",
   "execution_count": null,
   "metadata": {},
   "outputs": [],
   "source": []
  },
  {
   "cell_type": "code",
   "execution_count": null,
   "metadata": {},
   "outputs": [],
   "source": []
  },
  {
   "cell_type": "code",
   "execution_count": null,
   "metadata": {},
   "outputs": [],
   "source": []
  },
  {
   "cell_type": "code",
   "execution_count": null,
   "metadata": {},
   "outputs": [],
   "source": []
  },
  {
   "cell_type": "code",
   "execution_count": null,
   "metadata": {},
   "outputs": [],
   "source": []
  },
  {
   "cell_type": "code",
   "execution_count": null,
   "metadata": {},
   "outputs": [],
   "source": []
  }
 ],
 "metadata": {
  "kernelspec": {
   "display_name": "Python 3",
   "language": "python",
   "name": "python3"
  },
  "language_info": {
   "codemirror_mode": {
    "name": "ipython",
    "version": 3
   },
   "file_extension": ".py",
   "mimetype": "text/x-python",
   "name": "python",
   "nbconvert_exporter": "python",
   "pygments_lexer": "ipython3",
   "version": "3.7.4"
  }
 },
 "nbformat": 4,
 "nbformat_minor": 2
}
